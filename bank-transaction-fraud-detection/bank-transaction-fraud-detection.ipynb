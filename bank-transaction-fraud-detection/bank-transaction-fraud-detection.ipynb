{
 "cells": [
  {
   "cell_type": "markdown",
   "metadata": {},
   "source": [
    "# Bank transaction fraud detection\n",
    "\n",
    "TML model that detect fraudulent transactions."
   ]
  },
  {
   "cell_type": "markdown",
   "metadata": {},
   "source": [
    "## Setup\n",
    "\n",
    "### Dependencies\n",
    "\n",
    "Import the necessary modules.\n",
    "\n",
    "* kagglehub: used to download the dataset.\n",
    "* pathlib: provide path to the dataset.\n",
    "* TabularDataLoaders: create a data block to be used in the TML model.\n",
    "* tabular_learner: learner object for TML task.\n",
    "* accuracy: metric to evaluate model's performance.\n",
    "* Categorify: a preprocessing step that converts categorical variables into numeric codes.\n",
    "* FillMissing: a preprocessing step that fills the empty fields of a continuous column with its median value.\n",
    "* Normalize: a preprocessing step that scales continuous variables to have zero mean and unit variance."
   ]
  },
  {
   "cell_type": "code",
   "execution_count": null,
   "metadata": {},
   "outputs": [],
   "source": [
    "from kagglehub import dataset_download\n",
    "\n",
    "from pathlib import Path\n",
    "\n",
    "from fastai.tabular.all import (\n",
    "    TabularDataLoaders,\n",
    "    tabular_learner,\n",
    "    accuracy,\n",
    "    Categorify,\n",
    "    FillMissing,\n",
    "    Normalize\n",
    ")"
   ]
  },
  {
   "cell_type": "markdown",
   "metadata": {},
   "source": [
    "### Variables\n",
    "\n",
    "1. Define the path to the dataset."
   ]
  },
  {
   "cell_type": "code",
   "execution_count": null,
   "metadata": {},
   "outputs": [],
   "source": [
    "dataset_path_string = dataset_download('marusagar/bank-transaction-fraud-detection')\n",
    "dataset_path = Path(dataset_path_string) / 'Bank_Transaction_Fraud_Detection.csv'"
   ]
  },
  {
   "cell_type": "markdown",
   "metadata": {},
   "source": [
    "2. Define the data block for training"
   ]
  },
  {
   "cell_type": "code",
   "execution_count": null,
   "metadata": {},
   "outputs": [],
   "source": [
    "data_block = TabularDataLoaders.from_csv(\n",
    "    dataset_path,\n",
    "    y_names='Is_Fraud',\n",
    "    cat_names=['Customer_ID', 'Gender', 'State', 'City', 'Bank_Branch',\n",
    "               'Account_Type', 'Transaction_ID', 'Transaction_Date', 'Transaction_Time',\n",
    "               'Merchant_ID', 'Transaction_Type', 'Merchant_Category',\n",
    "               'Transaction_Device', 'Device_Type', 'Customer_Contact', 'Transaction_Location',\n",
    "               'Transaction_Currency', 'Transaction_Description', 'Customer_Email'],\n",
    "    cont_names=['Age', 'Transaction_Amount', 'Account_Balance'],\n",
    "    procs=[Categorify, FillMissing, Normalize]\n",
    ")"
   ]
  },
  {
   "cell_type": "markdown",
   "metadata": {},
   "source": [
    "### Training\n",
    "\n",
    "Pass the defined data block to the tabular_learner for training. Since there is commonly no pretrained model for a tabular machine learning task the fit_one_cycle method is used instead of fine_tune."
   ]
  },
  {
   "cell_type": "code",
   "execution_count": null,
   "metadata": {},
   "outputs": [],
   "source": [
    "learner = tabular_learner(data_block, metrics=accuracy)\n",
    "learner.fit_one_cycle(3)"
   ]
  }
 ],
 "metadata": {
  "kernelspec": {
   "display_name": ".venv",
   "language": "python",
   "name": "python3"
  },
  "language_info": {
   "name": "python",
   "version": "3.12.8"
  }
 },
 "nbformat": 4,
 "nbformat_minor": 2
}
