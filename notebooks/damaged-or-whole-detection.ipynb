{
 "cells": [
  {
   "cell_type": "code",
   "execution_count": 1,
   "id": "57333162-25c9-4573-8c51-ac041f0e5059",
   "metadata": {},
   "outputs": [],
   "source": [
    "import kagglehub"
   ]
  },
  {
   "cell_type": "code",
   "execution_count": 2,
   "id": "53603436-7015-4299-939c-e9ee0b0b18e2",
   "metadata": {},
   "outputs": [],
   "source": [
    "from pathlib import Path"
   ]
  },
  {
   "cell_type": "code",
   "execution_count": 16,
   "id": "fdd2b469-1f0a-4e93-ab6a-cb9faba33212",
   "metadata": {},
   "outputs": [],
   "source": [
    "from fastai.vision.all import (\n",
    "    ImageDataLoaders,\n",
    "    Resize,\n",
    "    aug_transforms,\n",
    "    vision_learner,\n",
    "    resnet34,\n",
    "    error_rate\n",
    ")"
   ]
  },
  {
   "cell_type": "code",
   "execution_count": 17,
   "id": "49b270ee-cc9a-4ace-a040-b9d8cf0982f0",
   "metadata": {},
   "outputs": [],
   "source": [
    "path_string = kagglehub.dataset_download(\"anujms/car-damage-detection\")\n",
    "path = Path(path_string) / 'data1a'"
   ]
  },
  {
   "cell_type": "code",
   "execution_count": 18,
   "id": "91034de4-78f0-4cb3-9eb8-2eeebbeeb992",
   "metadata": {},
   "outputs": [],
   "source": [
    "data_block = ImageDataLoaders.from_folder(\n",
    "    path,\n",
    "    'training',\n",
    "    'validation',\n",
    "    seed=42,\n",
    "    item_tfms=Resize(400),\n",
    "    batch_tfms=aug_transforms()\n",
    ")"
   ]
  },
  {
   "cell_type": "code",
   "execution_count": null,
   "id": "775a817e-1ccf-4922-ae61-7ccac4a502e6",
   "metadata": {},
   "outputs": [
    {
     "data": {
      "text/html": [
       "\n",
       "<style>\n",
       "    /* Turns off some styling */\n",
       "    progress {\n",
       "        /* gets rid of default border in Firefox and Opera. */\n",
       "        border: none;\n",
       "        /* Needs to be in here for Safari polyfill so background images work as expected. */\n",
       "        background-size: auto;\n",
       "    }\n",
       "    progress:not([value]), progress:not([value])::-webkit-progress-bar {\n",
       "        background: repeating-linear-gradient(45deg, #7e7e7e, #7e7e7e 10px, #5c5c5c 10px, #5c5c5c 20px);\n",
       "    }\n",
       "    .progress-bar-interrupted, .progress-bar-interrupted::-webkit-progress-bar {\n",
       "        background: #F44336;\n",
       "    }\n",
       "</style>\n"
      ],
      "text/plain": [
       "<IPython.core.display.HTML object>"
      ]
     },
     "metadata": {},
     "output_type": "display_data"
    },
    {
     "data": {
      "text/html": [
       "\n",
       "    <div>\n",
       "      <progress value='0' class='' max='1' style='width:300px; height:20px; vertical-align: middle;'></progress>\n",
       "      0.00% [0/1 00:00&lt;?]\n",
       "    </div>\n",
       "    \n",
       "<table border=\"1\" class=\"dataframe\">\n",
       "  <thead>\n",
       "    <tr style=\"text-align: left;\">\n",
       "      <th>epoch</th>\n",
       "      <th>train_loss</th>\n",
       "      <th>valid_loss</th>\n",
       "      <th>error_rate</th>\n",
       "      <th>time</th>\n",
       "    </tr>\n",
       "  </thead>\n",
       "  <tbody>\n",
       "  </tbody>\n",
       "</table><p>\n",
       "\n",
       "    <div>\n",
       "      <progress value='1' class='' max='28' style='width:300px; height:20px; vertical-align: middle;'></progress>\n",
       "      3.57% [1/28 00:43&lt;19:37]\n",
       "    </div>\n",
       "    "
      ],
      "text/plain": [
       "<IPython.core.display.HTML object>"
      ]
     },
     "metadata": {},
     "output_type": "display_data"
    }
   ],
   "source": [
    "learner = vision_learner(data_block, resnet34, metrics=error_rate)\n",
    "learner.fine_tune(1)"
   ]
  },
  {
   "cell_type": "code",
   "execution_count": null,
   "id": "057ee2e0-32fc-495e-8228-0faa079c7cfb",
   "metadata": {},
   "outputs": [],
   "source": []
  }
 ],
 "metadata": {
  "kernelspec": {
   "display_name": "Python 3 (ipykernel)",
   "language": "python",
   "name": "python3"
  },
  "language_info": {
   "codemirror_mode": {
    "name": "ipython",
    "version": 3
   },
   "file_extension": ".py",
   "mimetype": "text/x-python",
   "name": "python",
   "nbconvert_exporter": "python",
   "pygments_lexer": "ipython3",
   "version": "3.12.8"
  }
 },
 "nbformat": 4,
 "nbformat_minor": 5
}
