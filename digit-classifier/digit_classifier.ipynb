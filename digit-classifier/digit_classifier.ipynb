{
 "cells": [
  {
   "cell_type": "markdown",
   "metadata": {},
   "source": [
    "# Digit classifier\n",
    "\n",
    "A CV model that takes in an image of a digit as an input and classifies it from 0 to 9."
   ]
  },
  {
   "cell_type": "markdown",
   "metadata": {},
   "source": [
    "## Setup\n",
    "\n",
    "### Dependencies\n",
    "\n",
    "* torch:\n",
    "* PIL.Image: open image files.\n",
    "* pathlib.Path: convert paths to directories/files to POSIXPath object that is convenient to use.\n",
    "* URLs: urls to different datasets.\n",
    "* untar_data: function to unarchive the dataset from the URLs.\n",
    "* tensor: function to convert image to its tensor representation."
   ]
  },
  {
   "cell_type": "code",
   "execution_count": null,
   "metadata": {},
   "outputs": [],
   "source": [
    "import torch\n",
    "\n",
    "from PIL import Image\n",
    "from pathlib import Path\n",
    "\n",
    "from fastai.vision.all import (\n",
    "    URLs,\n",
    "    untar_data,\n",
    "    tensor,\n",
    "    show_image\n",
    ")"
   ]
  },
  {
   "cell_type": "markdown",
   "metadata": {},
   "source": [
    "### Variables\n",
    "\n",
    "1. Define dataset path."
   ]
  },
  {
   "cell_type": "code",
   "execution_count": 2,
   "metadata": {},
   "outputs": [],
   "source": [
    "dataset_path_string = untar_data(URLs.MNIST)\n",
    "dataset_path = Path(dataset_path_string) / 'training'"
   ]
  },
  {
   "cell_type": "markdown",
   "metadata": {},
   "source": [
    "2. Define paths to each of the digits."
   ]
  },
  {
   "cell_type": "code",
   "execution_count": 3,
   "metadata": {},
   "outputs": [],
   "source": [
    "zeroes = (dataset_path / '0').ls().sorted()\n",
    "ones = (dataset_path / '1').ls().sorted()\n",
    "twos = (dataset_path / '2').ls().sorted()\n",
    "threes = (dataset_path / '3').ls().sorted()\n",
    "fours = (dataset_path / '4').ls().sorted()\n",
    "fives = (dataset_path / '5').ls().sorted()\n",
    "sixs = (dataset_path / '6').ls().sorted()\n",
    "sevens = (dataset_path / '7').ls().sorted()\n",
    "eights = (dataset_path / '8').ls().sorted()\n",
    "nines = (dataset_path / '9').ls().sorted()"
   ]
  },
  {
   "cell_type": "markdown",
   "metadata": {},
   "source": [
    "3. Define rank 2 tensors (because the images are non colored, they have width and height dimensions, so the tensors are of rank 2)"
   ]
  },
  {
   "cell_type": "code",
   "execution_count": null,
   "metadata": {},
   "outputs": [],
   "source": [
    "zeroes_tensors = [tensor(Image.open(image)) for image in zeroes]\n",
    "ones_tensors = [tensor(Image.open(image)) for image in ones]\n",
    "twos_tensors = [tensor(Image.open(image)) for image in twos]\n",
    "threes_tensors = [tensor(Image.open(image)) for image in threes]\n",
    "fours_tensors = [tensor(Image.open(image)) for image in fours]\n",
    "fives_tensors = [tensor(Image.open(image)) for image in fives]\n",
    "sixs_tensors = [tensor(Image.open(image)) for image in sixs]\n",
    "sevens_tensors = [tensor(Image.open(image)) for image in sevens]\n",
    "eights_tensors = [tensor(Image.open(image)) for image in eights]\n",
    "nines_tensors = [tensor(Image.open(image)) for image in nines]"
   ]
  },
  {
   "cell_type": "markdown",
   "metadata": {},
   "source": [
    "4. Combine all the images in the tensors lists in a single rank 3 tensor (for each of the digits its own)."
   ]
  },
  {
   "cell_type": "code",
   "execution_count": null,
   "metadata": {},
   "outputs": [],
   "source": [
    "stacked_zeroes = "
   ]
  }
 ],
 "metadata": {
  "kernelspec": {
   "display_name": ".venv",
   "language": "python",
   "name": "python3"
  },
  "language_info": {
   "codemirror_mode": {
    "name": "ipython",
    "version": 3
   },
   "file_extension": ".py",
   "mimetype": "text/x-python",
   "name": "python",
   "nbconvert_exporter": "python",
   "pygments_lexer": "ipython3",
   "version": "3.12.8"
  }
 },
 "nbformat": 4,
 "nbformat_minor": 4
}
