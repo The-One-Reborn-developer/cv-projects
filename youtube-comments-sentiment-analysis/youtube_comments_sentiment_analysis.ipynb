{
 "cells": [
  {
   "cell_type": "markdown",
   "metadata": {},
   "source": [
    "# Youtube comments sentiment analysis\n",
    "\n",
    "NLP model that can define the sentiment of the youtube comment as: neutral, negative, positive."
   ]
  },
  {
   "cell_type": "markdown",
   "metadata": {},
   "source": [
    "## Setup\n",
    "\n",
    "### Dependencies\n",
    "\n",
    "Import the necessary modules.\n",
    "\n",
    "* kagglehub: used to download the dataset.\n",
    "* pathlib: provide path to the dataset.\n",
    "* TextDataLoaders: create a data block to be used in the NLP model.\n",
    "* text_classifier_learner: learner object for NLP task.\n",
    "* accuracy: metric to evaluate model's performance.\n",
    "* AWD_LSTM: NLP model used for training."
   ]
  },
  {
   "cell_type": "code",
   "execution_count": null,
   "metadata": {},
   "outputs": [],
   "source": [
    "from kagglehub import dataset_download\n",
    "\n",
    "from pathlib import Path\n",
    "\n",
    "from fastai.text.all import (\n",
    "    TextDataLoaders,\n",
    "    text_classifier_learner,\n",
    "    accuracy,\n",
    "    AWD_LSTM\n",
    ")"
   ]
  },
  {
   "cell_type": "markdown",
   "metadata": {},
   "source": [
    "### Variables\n",
    "\n",
    "1. Define the path to the dataset."
   ]
  },
  {
   "cell_type": "code",
   "execution_count": null,
   "metadata": {},
   "outputs": [],
   "source": [
    "dataset_path_string = dataset_download('atifaliak/youtube-comments-dataset')\n",
    "dataset_path = Path(dataset_path_string)"
   ]
  },
  {
   "cell_type": "markdown",
   "metadata": {},
   "source": [
    "2. Define the data block for training"
   ]
  },
  {
   "cell_type": "code",
   "execution_count": null,
   "metadata": {},
   "outputs": [],
   "source": [
    "data_block = TextDataLoaders.from_csv(\n",
    "    dataset_path,\n",
    "    csv_fname='YoutubeCommentsDataSet.csv',\n",
    "    text_col='Comment',\n",
    "    label_col='Sentiment'\n",
    ")"
   ]
  },
  {
   "cell_type": "markdown",
   "metadata": {},
   "source": [
    "### Training\n",
    "\n",
    "Pass the defined data block to the text_classifier_learner for training. Fine tune it with the arguments 4 (meaning four epochs or eight whole passes through the dataset) and 1e-2 which is the learning rate (higher rate speeds up training but might cause instability or poor convergence)."
   ]
  },
  {
   "cell_type": "code",
   "execution_count": null,
   "metadata": {},
   "outputs": [],
   "source": [
    "learner = text_classifier_learner(data_block, AWD_LSTM, drop_mult=0.5, metrics=accuracy)\n",
    "learner.fine_tune(4, 1e-2)"
   ]
  },
  {
   "cell_type": "markdown",
   "metadata": {},
   "source": [
    "## Using\n",
    "\n",
    "Pass the comment sample to the model to categorize it being neutral, positive or negative. Uncomment and pass one at a time."
   ]
  },
  {
   "cell_type": "code",
   "execution_count": null,
   "metadata": {},
   "outputs": [],
   "source": [
    "#learner.predict('Whoever came up with this idea needs a huge raise. The last joker would have been very interesting to see too')\n",
    "#learner.predict('The man on the wheelchair has my respect 🗿💯')\n",
    "#learner.predict('Another murderer')\n",
    "#learner.predict('Ngl, that shit was SICK')\n",
    "learner.predict(\"Why are blacks so obsessed with Aura? It feels animalistic to me, like how blacks are obsessed with rap and rapping about how great they are. It's just peacocking to attract a mate. I personally don't have a hyper strong desire to constantly have to look cool. I just want to chill and enjoy life. I get sick and tired of constantly dealing with mid looking people acting like they are gods gift to Earth.\")"
   ]
  }
 ],
 "metadata": {
  "kernelspec": {
   "display_name": ".venv",
   "language": "python",
   "name": "python3"
  },
  "language_info": {
   "codemirror_mode": {
    "name": "ipython",
    "version": 3
   },
   "file_extension": ".py",
   "mimetype": "text/x-python",
   "name": "python",
   "nbconvert_exporter": "python",
   "pygments_lexer": "ipython3",
   "version": "3.12.8"
  }
 },
 "nbformat": 4,
 "nbformat_minor": 4
}
