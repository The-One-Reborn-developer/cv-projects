{
 "cells": [
  {
   "cell_type": "markdown",
   "metadata": {},
   "source": [
    "# Car parts segmentation\n",
    "\n",
    "CV model that segments the photo of a car into several objects."
   ]
  },
  {
   "cell_type": "markdown",
   "metadata": {},
   "source": [
    "## Setup\n",
    "\n",
    "### Dependencies\n",
    "\n",
    "Import the necessary modules.\n",
    "\n",
    "* kagglehub: used to download the dataset.\n",
    "* numpy: used to properly open and use the segmentation labels from a txt file.\n",
    "* pathlib: provide path to the dataset.\n",
    "* SegmentationDataLoaders: create a data block to be used in the CV model.\n",
    "* Resize: ensure same size of the dataset images.\n",
    "* get_image_files: function to take the images from the dataset directory.\n",
    "* Resize: used to transform all images in the dataset into one uniform size before passing to the model.\n",
    "* get_image_files: helper function to fetch all the training images.\n",
    "* resnet34: the model that will be used.\n",
    "* unet_learner: learner object for a segmentation task.\n",
    "* PILMask: ensure same color pallete for training images."
   ]
  },
  {
   "cell_type": "code",
   "execution_count": null,
   "metadata": {},
   "outputs": [],
   "source": [
    "from kagglehub import dataset_download\n",
    "\n",
    "from numpy import loadtxt\n",
    "\n",
    "from pathlib import Path\n",
    "\n",
    "from fastai.vision.all import (\n",
    "    SegmentationDataLoaders,\n",
    "    Resize,\n",
    "    get_image_files,\n",
    "    resnet34,\n",
    "    unet_learner,\n",
    "    PILMask\n",
    ")"
   ]
  },
  {
   "cell_type": "markdown",
   "metadata": {},
   "source": [
    "### Variables\n",
    "\n",
    "1. Define the path to the dataset."
   ]
  },
  {
   "cell_type": "code",
   "execution_count": null,
   "metadata": {},
   "outputs": [],
   "source": [
    "dataset_path_string = dataset_download('intelecai/car-segmentation')\n",
    "dataset_path = Path(dataset_path_string) / 'car-segmentation'"
   ]
  },
  {
   "cell_type": "markdown",
   "metadata": {},
   "source": [
    "2. Define the data block for training"
   ]
  },
  {
   "cell_type": "code",
   "execution_count": null,
   "metadata": {},
   "outputs": [],
   "source": [
    "data_block = SegmentationDataLoaders.from_label_func(\n",
    "    dataset_path,\n",
    "    fnames=get_image_files(dataset_path / 'images'),\n",
    "    label_func=lambda file_name: PILMask.create(dataset_path / 'masks' / file_name.name),\n",
    "    codes=loadtxt(dataset_path / 'classes.txt', dtype=str).tolist(),\n",
    "    item_tfms=Resize(400)\n",
    ")"
   ]
  },
  {
   "cell_type": "markdown",
   "metadata": {},
   "source": [
    "### Training\n",
    "\n",
    "Pass the defined data block to the unet learner for training. Fine tune it with the argument 8 (meaning eight epochs or eight whole passes through the dataset)."
   ]
  },
  {
   "cell_type": "code",
   "execution_count": null,
   "metadata": {},
   "outputs": [],
   "source": [
    "learner = unet_learner(data_block, resnet34)\n",
    "learner.fine_tune(8)"
   ]
  },
  {
   "cell_type": "markdown",
   "metadata": {},
   "source": [
    "Display the batch of the data to confirm visually that the training was successful."
   ]
  },
  {
   "cell_type": "code",
   "execution_count": null,
   "metadata": {},
   "outputs": [],
   "source": [
    "learner.show_results(max_n=4)"
   ]
  }
 ],
 "metadata": {
  "kernelspec": {
   "display_name": ".venv",
   "language": "python",
   "name": "python3"
  },
  "language_info": {
   "codemirror_mode": {
    "name": "ipython",
    "version": 3
   },
   "file_extension": ".py",
   "mimetype": "text/x-python",
   "name": "python",
   "nbconvert_exporter": "python",
   "pygments_lexer": "ipython3",
   "version": "3.12.8"
  }
 },
 "nbformat": 4,
 "nbformat_minor": 4
}
